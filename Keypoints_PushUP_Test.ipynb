{
  "nbformat": 4,
  "nbformat_minor": 0,
  "metadata": {
    "accelerator": "GPU",
    "colab": {
      "name": "Keypoints_PushUP_Test.ipynb",
      "provenance": [],
      "collapsed_sections": []
    },
    "kernelspec": {
      "display_name": "Python 3",
      "name": "python3"
    },
    "widgets": {
      "application/vnd.jupyter.widget-state+json": {
        "4aad79ddfcb84c29980116f62edfa244": {
          "model_module": "@jupyter-widgets/controls",
          "model_name": "HBoxModel",
          "state": {
            "_view_name": "HBoxView",
            "_dom_classes": [],
            "_model_name": "HBoxModel",
            "_view_module": "@jupyter-widgets/controls",
            "_model_module_version": "1.5.0",
            "_view_count": null,
            "_view_module_version": "1.5.0",
            "box_style": "",
            "layout": "IPY_MODEL_c00cbac448054ac8805a467b3dce5c65",
            "_model_module": "@jupyter-widgets/controls",
            "children": [
              "IPY_MODEL_d6759770e8324935b96780f1f1e3c3bc",
              "IPY_MODEL_a9c8555c2bff423281847cf0a3717be5"
            ]
          }
        },
        "c00cbac448054ac8805a467b3dce5c65": {
          "model_module": "@jupyter-widgets/base",
          "model_name": "LayoutModel",
          "state": {
            "_view_name": "LayoutView",
            "grid_template_rows": null,
            "right": null,
            "justify_content": null,
            "_view_module": "@jupyter-widgets/base",
            "overflow": null,
            "_model_module_version": "1.2.0",
            "_view_count": null,
            "flex_flow": null,
            "width": null,
            "min_width": null,
            "border": null,
            "align_items": null,
            "bottom": null,
            "_model_module": "@jupyter-widgets/base",
            "top": null,
            "grid_column": null,
            "overflow_y": null,
            "overflow_x": null,
            "grid_auto_flow": null,
            "grid_area": null,
            "grid_template_columns": null,
            "flex": null,
            "_model_name": "LayoutModel",
            "justify_items": null,
            "grid_row": null,
            "max_height": null,
            "align_content": null,
            "visibility": null,
            "align_self": null,
            "height": null,
            "min_height": null,
            "padding": null,
            "grid_auto_rows": null,
            "grid_gap": null,
            "max_width": null,
            "order": null,
            "_view_module_version": "1.2.0",
            "grid_template_areas": null,
            "object_position": null,
            "object_fit": null,
            "grid_auto_columns": null,
            "margin": null,
            "display": null,
            "left": null
          }
        },
        "d6759770e8324935b96780f1f1e3c3bc": {
          "model_module": "@jupyter-widgets/controls",
          "model_name": "FloatProgressModel",
          "state": {
            "_view_name": "ProgressView",
            "style": "IPY_MODEL_83150251e1274506bfb765faaecdefc0",
            "_dom_classes": [],
            "description": "100%",
            "_model_name": "FloatProgressModel",
            "bar_style": "success",
            "max": 36804509,
            "_view_module": "@jupyter-widgets/controls",
            "_model_module_version": "1.5.0",
            "value": 36804509,
            "_view_count": null,
            "_view_module_version": "1.5.0",
            "orientation": "horizontal",
            "min": 0,
            "description_tooltip": null,
            "_model_module": "@jupyter-widgets/controls",
            "layout": "IPY_MODEL_cc66f1b25e3f42dd9c193b73b540dc4c"
          }
        },
        "a9c8555c2bff423281847cf0a3717be5": {
          "model_module": "@jupyter-widgets/controls",
          "model_name": "HTMLModel",
          "state": {
            "_view_name": "HTMLView",
            "style": "IPY_MODEL_0f91bdac7b8f4b2287db1b1816121650",
            "_dom_classes": [],
            "description": "",
            "_model_name": "HTMLModel",
            "placeholder": "​",
            "_view_module": "@jupyter-widgets/controls",
            "_model_module_version": "1.5.0",
            "value": " 35.1M/35.1M [00:00&lt;00:00, 93.1MB/s]",
            "_view_count": null,
            "_view_module_version": "1.5.0",
            "description_tooltip": null,
            "_model_module": "@jupyter-widgets/controls",
            "layout": "IPY_MODEL_02c769cc705242cc88ddbe5006fa81c5"
          }
        },
        "83150251e1274506bfb765faaecdefc0": {
          "model_module": "@jupyter-widgets/controls",
          "model_name": "ProgressStyleModel",
          "state": {
            "_view_name": "StyleView",
            "_model_name": "ProgressStyleModel",
            "description_width": "initial",
            "_view_module": "@jupyter-widgets/base",
            "_model_module_version": "1.5.0",
            "_view_count": null,
            "_view_module_version": "1.2.0",
            "bar_color": null,
            "_model_module": "@jupyter-widgets/controls"
          }
        },
        "cc66f1b25e3f42dd9c193b73b540dc4c": {
          "model_module": "@jupyter-widgets/base",
          "model_name": "LayoutModel",
          "state": {
            "_view_name": "LayoutView",
            "grid_template_rows": null,
            "right": null,
            "justify_content": null,
            "_view_module": "@jupyter-widgets/base",
            "overflow": null,
            "_model_module_version": "1.2.0",
            "_view_count": null,
            "flex_flow": null,
            "width": null,
            "min_width": null,
            "border": null,
            "align_items": null,
            "bottom": null,
            "_model_module": "@jupyter-widgets/base",
            "top": null,
            "grid_column": null,
            "overflow_y": null,
            "overflow_x": null,
            "grid_auto_flow": null,
            "grid_area": null,
            "grid_template_columns": null,
            "flex": null,
            "_model_name": "LayoutModel",
            "justify_items": null,
            "grid_row": null,
            "max_height": null,
            "align_content": null,
            "visibility": null,
            "align_self": null,
            "height": null,
            "min_height": null,
            "padding": null,
            "grid_auto_rows": null,
            "grid_gap": null,
            "max_width": null,
            "order": null,
            "_view_module_version": "1.2.0",
            "grid_template_areas": null,
            "object_position": null,
            "object_fit": null,
            "grid_auto_columns": null,
            "margin": null,
            "display": null,
            "left": null
          }
        },
        "0f91bdac7b8f4b2287db1b1816121650": {
          "model_module": "@jupyter-widgets/controls",
          "model_name": "DescriptionStyleModel",
          "state": {
            "_view_name": "StyleView",
            "_model_name": "DescriptionStyleModel",
            "description_width": "",
            "_view_module": "@jupyter-widgets/base",
            "_model_module_version": "1.5.0",
            "_view_count": null,
            "_view_module_version": "1.2.0",
            "_model_module": "@jupyter-widgets/controls"
          }
        },
        "02c769cc705242cc88ddbe5006fa81c5": {
          "model_module": "@jupyter-widgets/base",
          "model_name": "LayoutModel",
          "state": {
            "_view_name": "LayoutView",
            "grid_template_rows": null,
            "right": null,
            "justify_content": null,
            "_view_module": "@jupyter-widgets/base",
            "overflow": null,
            "_model_module_version": "1.2.0",
            "_view_count": null,
            "flex_flow": null,
            "width": null,
            "min_width": null,
            "border": null,
            "align_items": null,
            "bottom": null,
            "_model_module": "@jupyter-widgets/base",
            "top": null,
            "grid_column": null,
            "overflow_y": null,
            "overflow_x": null,
            "grid_auto_flow": null,
            "grid_area": null,
            "grid_template_columns": null,
            "flex": null,
            "_model_name": "LayoutModel",
            "justify_items": null,
            "grid_row": null,
            "max_height": null,
            "align_content": null,
            "visibility": null,
            "align_self": null,
            "height": null,
            "min_height": null,
            "padding": null,
            "grid_auto_rows": null,
            "grid_gap": null,
            "max_width": null,
            "order": null,
            "_view_module_version": "1.2.0",
            "grid_template_areas": null,
            "object_position": null,
            "object_fit": null,
            "grid_auto_columns": null,
            "margin": null,
            "display": null,
            "left": null
          }
        }
      }
    }
  },
  "cells": [
    {
      "cell_type": "code",
      "metadata": {
        "id": "JE98eqjBmEQ4",
        "colab": {
          "base_uri": "https://localhost:8080/"
        },
        "outputId": "70cf905e-550e-4711-c147-cc4ace7b87d8"
      },
      "source": [
        "!nvidia-smi"
      ],
      "execution_count": null,
      "outputs": [
        {
          "output_type": "stream",
          "text": [
            "Sat Dec 12 02:49:37 2020       \n",
            "+-----------------------------------------------------------------------------+\n",
            "| NVIDIA-SMI 455.45.01    Driver Version: 418.67       CUDA Version: 10.1     |\n",
            "|-------------------------------+----------------------+----------------------+\n",
            "| GPU  Name        Persistence-M| Bus-Id        Disp.A | Volatile Uncorr. ECC |\n",
            "| Fan  Temp  Perf  Pwr:Usage/Cap|         Memory-Usage | GPU-Util  Compute M. |\n",
            "|                               |                      |               MIG M. |\n",
            "|===============================+======================+======================|\n",
            "|   0  Tesla T4            Off  | 00000000:00:04.0 Off |                    0 |\n",
            "| N/A   43C    P8     9W /  70W |      0MiB / 15079MiB |      0%      Default |\n",
            "|                               |                      |                 ERR! |\n",
            "+-------------------------------+----------------------+----------------------+\n",
            "                                                                               \n",
            "+-----------------------------------------------------------------------------+\n",
            "| Processes:                                                                  |\n",
            "|  GPU   GI   CI        PID   Type   Process name                  GPU Memory |\n",
            "|        ID   ID                                                   Usage      |\n",
            "|=============================================================================|\n",
            "|  No running processes found                                                 |\n",
            "+-----------------------------------------------------------------------------+\n"
          ],
          "name": "stdout"
        }
      ]
    },
    {
      "cell_type": "code",
      "metadata": {
        "colab": {
          "base_uri": "https://localhost:8080/"
        },
        "id": "w345rb5g58XB",
        "outputId": "b58ec1e6-9be6-4d79-91a3-f28f87922663"
      },
      "source": [
        "# download and extract dataset from google drive link\n",
        "# dataset link: https://drive.google.com/uc?id=1oj7HdETwTZUMVzR-781uwK8WleCHqniN\n",
        "%cd /content/\n",
        "!gdown --id 1oj7HdETwTZUMVzR-781uwK8WleCHqniN\n",
        "!unzip /content/mpii_pushup.zip"
      ],
      "execution_count": null,
      "outputs": [
        {
          "output_type": "stream",
          "text": [
            "Downloading...\n",
            "From: https://drive.google.com/uc?id=1oj7HdETwTZUMVzR-781uwK8WleCHqniN\n",
            "To: /content/mpii_pushup.zip\n",
            "13.0GB [04:54, 44.0MB/s]\n"
          ],
          "name": "stdout"
        }
      ]
    },
    {
      "cell_type": "code",
      "metadata": {
        "colab": {
          "base_uri": "https://localhost:8080/"
        },
        "id": "YMdVUu_XJcQB",
        "outputId": "f8b00065-3e78-4efa-cb7d-e32cfc7ae00f"
      },
      "source": [
        "# download and extract pre-trained models for testing\n",
        "%cd /content/\n",
        "!gdown --id 1FdkHq03rr-tH6Kep-wjlHGp1hb27bbrA\n",
        "!unzip /content/DL_ckps.zip"
      ],
      "execution_count": null,
      "outputs": [
        {
          "output_type": "stream",
          "text": [
            "Downloading...\n",
            "From: https://drive.google.com/uc?id=1Jv4Vb40CV98CZPW0NZbqpgdAEX5ol1Md\n",
            "To: /content/DL_ckps.zip\n",
            "165MB [00:04, 36.8MB/s]\n"
          ],
          "name": "stdout"
        }
      ]
    },
    {
      "cell_type": "code",
      "execution_count": null,
      "metadata": {},
      "outputs": [],
      "source": [
        "!pip install efficientnet_pytorch\n",
        "!pip install resnest --pre\n",
        "!pip install albumentations==0.4.5"
      ]
    },
    {
      "cell_type": "code",
      "metadata": {
        "id": "1QG7PU7t1fCx",
        "colab": {
          "base_uri": "https://localhost:8080/"
        },
        "outputId": "4fa8036b-468c-4667-e361-c3bffbe16e0f"
      },
      "source": [
        "%cd SHPE_pushup/\n",
        "from loss_funcs import Detection_based_Loss, Regression_based_Loss, MAE, PCKS\n",
        "from deconv_model import build_model\n",
        "# import SHPE_pushup.utils\n",
        "from models import SHPE_model"
      ],
      "execution_count": null,
      "outputs": [
        {
          "output_type": "stream",
          "text": [
            "/content/SHPE_pushup\n",
            "/content\n"
          ],
          "name": "stdout"
        }
      ]
    },
    {
      "cell_type": "code",
      "metadata": {
        "id": "rLgmpe3O3MQq"
      },
      "source": [
        "import os, shutil, cv2, zipfile, json\n",
        "import matplotlib.pyplot as plt\n",
        "import numpy as np\n",
        "import pandas as pd\n",
        "import torch\n",
        "from torch.utils.tensorboard import SummaryWriter\n",
        "from torchvision.models import mobilenet_v2, shufflenet_v2_x1_5, shufflenet_v2_x0_5, shufflenet_v2_x1_0\n",
        "import torchvision.transforms as transforms\n",
        "from torch.utils.data import DataLoader, Dataset\n",
        "from albumentations import Compose, Resize, HorizontalFlip, VerticalFlip, Blur, MotionBlur, OneOf, GaussNoise, IAAAdditiveGaussianNoise, ShiftScaleRotate, RandomBrightnessContrast\n",
        "from albumentations.pytorch import ToTensor\n",
        "from albumentations import KeypointParams\n",
        "from PIL import Image"
      ],
      "execution_count": null,
      "outputs": []
    },
    {
      "cell_type": "code",
      "metadata": {
        "id": "7buLOBBpoG-_"
      },
      "source": [
        "class finetune_data(Dataset):\n",
        "  def __init__(self, labels_json, folder='./mpii_pushup/images', stride=4, img_size=(224,224), transform=None, sub_trans=None, mode = 'train'):\n",
        "    self.transform = transform\n",
        "    self.sub_trans = sub_trans\n",
        "    self.mode = mode\n",
        "    with open(labels_json, 'r') as fr:\n",
        "      raw_labels = json.load(fr)\n",
        "    self.labels = [aa for aa in raw_labels if len(aa['points']) == 7]\n",
        "    self.folder = folder\n",
        "    self.n_data = len(self.labels)\n",
        "    self.stride = stride\n",
        "    self.img_size = img_size\n",
        "    self.mask_size = (img_size[0]//stride, img_size[1]//stride)\n",
        "    print('total length data: {}'.format(self.n_data))\n",
        "  def __len__(self):\n",
        "    return self.n_data\n",
        "  def __getitem__(self, idx):\n",
        "    label = self.labels[idx]\n",
        "    img_path = os.path.join(self.folder, label['image'])\n",
        "    img = cv2.imread(img_path)\n",
        "    img = cv2.cvtColor(img, cv2.COLOR_BGR2RGB)\n",
        "    o_h, o_w = img.shape[:2]\n",
        "    masks = np.zeros((self.mask_size[0], self.mask_size[1], 3*(len(label['points']))), dtype = np.float32)\n",
        "    raw_label = np.array(label['points'])\n",
        "    if o_h > o_w:\n",
        "      new_img = np.zeros((o_h, o_h, 3), np.uint8)\n",
        "      cl = ((o_h-o_w)//2)\n",
        "      new_img[:,cl:cl+o_w] = img.copy()\n",
        "      raw_label[:,0] = raw_label[:,0] + cl\n",
        "    else:\n",
        "      new_img = np.zeros((o_w, o_w, 3), np.uint8)\n",
        "      cl = ((o_w-o_h)//2)\n",
        "      new_img[cl:cl+o_h,:] = img.copy()\n",
        "      raw_label[:,1] = raw_label[:,1] + cl\n",
        "    if self.transform:\n",
        "      if self.mode == 'train':\n",
        "        loop = True\n",
        "        count = 0\n",
        "        while loop:\n",
        "          aug = self.transform(image = new_img, keypoints = raw_label)\n",
        "          nimg = aug['image']\n",
        "          ncoors = aug['keypoints']\n",
        "          nncoors = np.array(ncoors)/self.img_size\n",
        "          count += 1\n",
        "          if np.all(nncoors<1) and np.all(nncoors>=0):\n",
        "            img=nimg\n",
        "            raw_label=np.array(ncoors).astype(np.int32)\n",
        "            loop=False\n",
        "            break\n",
        "          elif count > 20:\n",
        "            aug = self.sub_trans(image = new_img)\n",
        "            img = aug['image']\n",
        "            raw_label = (np.array(raw_label)/max([o_w, o_h]))*self.img_size\n",
        "            break\n",
        "      else:\n",
        "        aug = self.transform(image = new_img)\n",
        "        img = aug['image']\n",
        "        raw_label = (np.array(raw_label)/max([o_w, o_h]))*self.img_size\n",
        "    for i,key_point in enumerate(raw_label):\n",
        "        coor_x = np.clip(int(key_point[0]), 0, self.img_size[1]-1)\n",
        "        coor_y = np.clip(int(key_point[1]), 0, self.img_size[0]-1)\n",
        "        os_vect_x = coor_x - (coor_x//self.stride)*self.stride\n",
        "        os_vect_y = coor_y - (coor_y//self.stride)*self.stride\n",
        "        masks[coor_y//self.stride, coor_x//self.stride, i] = 1.0\n",
        "        masks[coor_y//self.stride, coor_x//self.stride, i+7] = os_vect_x/self.mask_size[1]\n",
        "        masks[coor_y//self.stride, coor_x//self.stride, i+14] = os_vect_y/self.mask_size[0]\n",
        "    return img, transforms.ToTensor()(masks)"
      ],
      "execution_count": null,
      "outputs": []
    },
    {
      "cell_type": "code",
      "execution_count": null,
      "metadata": {},
      "outputs": [],
      "source": [
        "%cd /content/\n",
        "train_json = './mpii_pushup/train.json'\n",
        "val_json = './mpii_pushup/val.json'\n",
        "test_json = './mpii_pushup/test.json'\n",
        "folder='./mpii_pushup/images'\n",
        "img_size = (224,224)\n",
        "stride = 4\n",
        "batch_size = 32"
      ]
    },
    {
      "cell_type": "code",
      "metadata": {
        "id": "FjnzpoNAXc_3",
        "colab": {
          "base_uri": "https://localhost:8080/"
        },
        "outputId": "b3d011ed-90bf-4d00-cc73-2a51e73c2fb2"
      },
      "source": [
        "sub_trans = Compose([Resize(img_size[0], img_size[1]), ToTensor()])\n",
        "trans = Compose([\n",
        "                 Resize(img_size[0], img_size[1]), #HorizontalFlip(), \n",
        "                 RandomBrightnessContrast(always_apply=True, brightness_limit=0.25, contrast_limit=0.25),\n",
        "                 OneOf([Blur(blur_limit=2, p=0.6), MotionBlur(blur_limit=3, p=0.6)], p=0.6), IAAAdditiveGaussianNoise(scale=(0.01*255, 0.03*255), p=0.6),\n",
        "                 ShiftScaleRotate(0.0, 0.05, 5, always_apply=True),\n",
        "                 ToTensor(),], keypoint_params=KeypointParams(format='xy', remove_invisible=False))\n",
        "data_train = finetune_data(train_json, folder = folder, transform=trans, stride=stride, img_size=img_size, sub_trans=sub_trans)\n",
        "data_val = finetune_data(val_json, folder = folder, transform=sub_trans, stride=stride, img_size=img_size, mode='val')\n",
        "data_test = finetune_data(test_json, folder = folder, transform=sub_trans, stride=stride, img_size=img_size, mode='test')\n",
        "train_loader = DataLoader(data_train, folder = folder, batch_size=batch_size, shuffle=True, num_workers=4)\n",
        "val_loader = DataLoader(data_val, folder = folder, batch_size=batch_size, shuffle=False, num_workers=4)\n",
        "test_loader = DataLoader(data_test, folder = folder, batch_size=batch_size, shuffle=False, num_workers=4)"
      ],
      "execution_count": null,
      "outputs": [
        {
          "output_type": "stream",
          "text": [
            "/content\n",
            "total length data: 18324\n",
            "total length data: 2188\n",
            "total length data: 2011\n"
          ],
          "name": "stdout"
        }
      ]
    },
    {
      "cell_type": "code",
      "execution_count": null,
      "metadata": {},
      "outputs": [],
      "source": [
        "for i in range(50):\n",
        "  rand_id = np.random.randint(0,data_val.__len__(),1)[0]\n",
        "  a, b = data_train.__getitem__(rand_id)\n",
        "  img_n = (a.numpy()*255).astype(np.uint8)\n",
        "  masks = b.numpy()\n",
        "  coor_x = []\n",
        "  coor_y = []\n",
        "  for i,mask in enumerate(masks[:7]):\n",
        "    cx = np.argmax(mask)%mask.shape[0]\n",
        "    cy = np.argmax(mask)//mask.shape[0]\n",
        "    ovx = int(masks[i+7][cy,cx]*stride)\n",
        "    ovy = int(masks[i+14][cy,cx]*stride)\n",
        "    coor_x.append(cx*stride+ovx)\n",
        "    coor_y.append(cy*stride+ovy)\n",
        "  plt.figure(i, figsize=(6,6))\n",
        "  plt.axis('off')\n",
        "  plt.imshow(np.stack([img_n[0,...], img_n[1,...], img_n[2,...]], axis=-1))\n",
        "  plt.scatter(coor_x, coor_y)\n",
        "  plt.show()"
      ]
    },
    {
      "cell_type": "code",
      "metadata": {
        "id": "bQj2_YiuAnFn"
      },
      "source": [
        "# model_name = 'shuffle'\n",
        "model_name = 'resnest2'\n",
        "# model_name = 'mobile2'\n",
        "model = build_model(model_name, use_depthwise=True)\n",
        "\n",
        "metrics = {'pcks':PCKS('detection', 7, (224, 224), stride=stride, thresh=0.25, id_shouder=(2,4)), 'mae':MAE('detection', 7, (224, 224), stride=stride)}\n",
        "criterion = Detection_based_Loss(n_kps=7)\n",
        "opt = torch.optim.Adam\n",
        "lr=3e-4\n",
        "\n",
        "shpe_model = SHPE_model(loss_func= criterion, optimizer=opt, lr=lr, pb_type='define', model_name='resnest',\n",
        "                        metrics=metrics, define_model=model, define_img_size=(224,224), stride=stride, n_kps=7)"
      ],
      "execution_count": null,
      "outputs": []
    },
    {
      "cell_type": "code",
      "metadata": {
        "id": "VXVTcYpbJyzt"
      },
      "source": [
        "shpe_model.load_ckp('/content/DL_ckps/resnest-separable-deconv-deeper_newdata_1212.pt')"
      ],
      "execution_count": null,
      "outputs": []
    },
    {
      "cell_type": "code",
      "execution_count": null,
      "metadata": {},
      "outputs": [],
      "source": [
        "shpe_model.evaluate(val_loader)\n",
        "shpe_model.evaluate(test_loader)"
      ]
    },
    {
      "cell_type": "code",
      "metadata": {
        "colab": {
          "base_uri": "https://localhost:8080/"
        },
        "id": "olGMWJ8w9rgU",
        "outputId": "8d4c4299-397c-4255-87ec-1842caf8b43b"
      },
      "source": [
        "!pip install torch-summary\n",
        "from torchsummary import summary\n",
        "# summary(shpe_model.model)\n",
        "summary(model)"
      ],
      "execution_count": null,
      "outputs": [
        {
          "output_type": "stream",
          "text": [
            "Collecting torch-summary\n",
            "  Downloading https://files.pythonhosted.org/packages/83/49/f9db57bcad7246591b93519fd8e5166c719548c45945ef7d2fc9fcba46fb/torch_summary-1.4.3-py3-none-any.whl\n",
            "Installing collected packages: torch-summary\n",
            "Successfully installed torch-summary-1.4.3\n",
            "================================================================================\n",
            "Layer (type:depth-idx)                                  Param #\n",
            "================================================================================\n",
            "├─Sequential: 1-1                                       --\n",
            "|    └─ConvBNReLU: 2-1                                  --\n",
            "|    |    └─Conv2d: 3-1                                 864\n",
            "|    |    └─BatchNorm2d: 3-2                            64\n",
            "|    |    └─ReLU6: 3-3                                  --\n",
            "|    └─InvertedResidual: 2-2                            --\n",
            "|    |    └─Sequential: 3-4                             896\n",
            "├─Sequential: 1-2                                       --\n",
            "|    └─InvertedResidual: 2-3                            --\n",
            "|    |    └─Sequential: 3-5                             5,136\n",
            "|    └─InvertedResidual: 2-4                            --\n",
            "|    |    └─Sequential: 3-6                             8,832\n",
            "├─Sequential: 1-3                                       --\n",
            "|    └─InvertedResidual: 2-5                            --\n",
            "|    |    └─Sequential: 3-7                             10,000\n",
            "|    └─InvertedResidual: 2-6                            --\n",
            "|    |    └─Sequential: 3-8                             14,848\n",
            "|    └─InvertedResidual: 2-7                            --\n",
            "|    |    └─Sequential: 3-9                             14,848\n",
            "├─Sequential: 1-4                                       --\n",
            "|    └─InvertedResidual: 2-8                            --\n",
            "|    |    └─Sequential: 3-10                            21,056\n",
            "|    └─InvertedResidual: 2-9                            --\n",
            "|    |    └─Sequential: 3-11                            54,272\n",
            "|    └─InvertedResidual: 2-10                           --\n",
            "|    |    └─Sequential: 3-12                            54,272\n",
            "|    └─InvertedResidual: 2-11                           --\n",
            "|    |    └─Sequential: 3-13                            54,272\n",
            "|    └─InvertedResidual: 2-12                           --\n",
            "|    |    └─Sequential: 3-14                            66,624\n",
            "|    └─InvertedResidual: 2-13                           --\n",
            "|    |    └─Sequential: 3-15                            118,272\n",
            "|    └─InvertedResidual: 2-14                           --\n",
            "|    |    └─Sequential: 3-16                            118,272\n",
            "├─Sequential: 1-5                                       --\n",
            "|    └─InvertedResidual: 2-15                           --\n",
            "|    |    └─Sequential: 3-17                            155,264\n",
            "|    └─InvertedResidual: 2-16                           --\n",
            "|    |    └─Sequential: 3-18                            320,000\n",
            "|    └─InvertedResidual: 2-17                           --\n",
            "|    |    └─Sequential: 3-19                            320,000\n",
            "|    └─InvertedResidual: 2-18                           --\n",
            "|    |    └─Sequential: 3-20                            473,920\n",
            "├─Conv2d: 1-6                                           693\n",
            "├─Upsample: 1-7                                         --\n",
            "├─Sequential: 1-8                                       --\n",
            "|    └─conv_block: 2-19                                 --\n",
            "|    |    └─ModuleList: 3-21                            75,840\n",
            "|    └─conv_block: 2-20                                 --\n",
            "|    |    └─ModuleList: 3-22                            16,960\n",
            "|    └─conv_block: 2-21                                 --\n",
            "|    |    └─ModuleList: 3-23                            5,232\n",
            "├─Sigmoid: 1-9                                          --\n",
            "================================================================================\n",
            "Total params: 1,910,437\n",
            "Trainable params: 1,910,437\n",
            "Non-trainable params: 0\n",
            "================================================================================\n"
          ],
          "name": "stdout"
        },
        {
          "output_type": "execute_result",
          "data": {
            "text/plain": [
              "================================================================================\n",
              "Layer (type:depth-idx)                                  Param #\n",
              "================================================================================\n",
              "├─Sequential: 1-1                                       --\n",
              "|    └─ConvBNReLU: 2-1                                  --\n",
              "|    |    └─Conv2d: 3-1                                 864\n",
              "|    |    └─BatchNorm2d: 3-2                            64\n",
              "|    |    └─ReLU6: 3-3                                  --\n",
              "|    └─InvertedResidual: 2-2                            --\n",
              "|    |    └─Sequential: 3-4                             896\n",
              "├─Sequential: 1-2                                       --\n",
              "|    └─InvertedResidual: 2-3                            --\n",
              "|    |    └─Sequential: 3-5                             5,136\n",
              "|    └─InvertedResidual: 2-4                            --\n",
              "|    |    └─Sequential: 3-6                             8,832\n",
              "├─Sequential: 1-3                                       --\n",
              "|    └─InvertedResidual: 2-5                            --\n",
              "|    |    └─Sequential: 3-7                             10,000\n",
              "|    └─InvertedResidual: 2-6                            --\n",
              "|    |    └─Sequential: 3-8                             14,848\n",
              "|    └─InvertedResidual: 2-7                            --\n",
              "|    |    └─Sequential: 3-9                             14,848\n",
              "├─Sequential: 1-4                                       --\n",
              "|    └─InvertedResidual: 2-8                            --\n",
              "|    |    └─Sequential: 3-10                            21,056\n",
              "|    └─InvertedResidual: 2-9                            --\n",
              "|    |    └─Sequential: 3-11                            54,272\n",
              "|    └─InvertedResidual: 2-10                           --\n",
              "|    |    └─Sequential: 3-12                            54,272\n",
              "|    └─InvertedResidual: 2-11                           --\n",
              "|    |    └─Sequential: 3-13                            54,272\n",
              "|    └─InvertedResidual: 2-12                           --\n",
              "|    |    └─Sequential: 3-14                            66,624\n",
              "|    └─InvertedResidual: 2-13                           --\n",
              "|    |    └─Sequential: 3-15                            118,272\n",
              "|    └─InvertedResidual: 2-14                           --\n",
              "|    |    └─Sequential: 3-16                            118,272\n",
              "├─Sequential: 1-5                                       --\n",
              "|    └─InvertedResidual: 2-15                           --\n",
              "|    |    └─Sequential: 3-17                            155,264\n",
              "|    └─InvertedResidual: 2-16                           --\n",
              "|    |    └─Sequential: 3-18                            320,000\n",
              "|    └─InvertedResidual: 2-17                           --\n",
              "|    |    └─Sequential: 3-19                            320,000\n",
              "|    └─InvertedResidual: 2-18                           --\n",
              "|    |    └─Sequential: 3-20                            473,920\n",
              "├─Conv2d: 1-6                                           693\n",
              "├─Upsample: 1-7                                         --\n",
              "├─Sequential: 1-8                                       --\n",
              "|    └─conv_block: 2-19                                 --\n",
              "|    |    └─ModuleList: 3-21                            75,840\n",
              "|    └─conv_block: 2-20                                 --\n",
              "|    |    └─ModuleList: 3-22                            16,960\n",
              "|    └─conv_block: 2-21                                 --\n",
              "|    |    └─ModuleList: 3-23                            5,232\n",
              "├─Sigmoid: 1-9                                          --\n",
              "================================================================================\n",
              "Total params: 1,910,437\n",
              "Trainable params: 1,910,437\n",
              "Non-trainable params: 0\n",
              "================================================================================"
            ]
          },
          "metadata": {
            "tags": []
          },
          "execution_count": 24
        }
      ]
    }
  ]
}